{
 "cells": [
  {
   "cell_type": "markdown",
   "id": "9375a56b",
   "metadata": {},
   "source": [
    "# Text Classification - Sentiment Analysis"
   ]
  },
  {
   "cell_type": "code",
   "execution_count": 1,
   "id": "2297bd1e",
   "metadata": {},
   "outputs": [],
   "source": [
    "import pandas as pd\n",
    "import numpy as np\n",
    "import tensorflow as tf\n",
    "from tensorflow import keras\n",
    "import tensorflow_hub as hub\n",
    "import re\n",
    "import string\n",
    "from sklearn.preprocessing import LabelEncoder\n",
    "from sklearn.model_selection import train_test_split\n",
    "import matplotlib.pyplot as plt"
   ]
  },
  {
   "cell_type": "code",
   "execution_count": 2,
   "id": "61190d72",
   "metadata": {},
   "outputs": [],
   "source": [
    "train_data=pd.read_csv(\"D:/6th Semester/Conversational AI-NLP/Lab/sentiment_dataset/train.csv\")\n",
    "test_data=pd.read_csv(\"D:/6th Semester/Conversational AI-NLP/Lab/sentiment_dataset/test.csv\")"
   ]
  },
  {
   "cell_type": "code",
   "execution_count": 3,
   "id": "6a4042ab",
   "metadata": {},
   "outputs": [
    {
     "data": {
      "text/html": [
       "<div>\n",
       "<style scoped>\n",
       "    .dataframe tbody tr th:only-of-type {\n",
       "        vertical-align: middle;\n",
       "    }\n",
       "\n",
       "    .dataframe tbody tr th {\n",
       "        vertical-align: top;\n",
       "    }\n",
       "\n",
       "    .dataframe thead th {\n",
       "        text-align: right;\n",
       "    }\n",
       "</style>\n",
       "<table border=\"1\" class=\"dataframe\">\n",
       "  <thead>\n",
       "    <tr style=\"text-align: right;\">\n",
       "      <th></th>\n",
       "      <th>textID</th>\n",
       "      <th>text</th>\n",
       "      <th>selected_text</th>\n",
       "      <th>sentiment</th>\n",
       "    </tr>\n",
       "  </thead>\n",
       "  <tbody>\n",
       "    <tr>\n",
       "      <th>0</th>\n",
       "      <td>cb774db0d1</td>\n",
       "      <td>I`d have responded, if I were going</td>\n",
       "      <td>I`d have responded, if I were going</td>\n",
       "      <td>neutral</td>\n",
       "    </tr>\n",
       "    <tr>\n",
       "      <th>1</th>\n",
       "      <td>549e992a42</td>\n",
       "      <td>Sooo SAD I will miss you here in San Diego!!!</td>\n",
       "      <td>Sooo SAD</td>\n",
       "      <td>negative</td>\n",
       "    </tr>\n",
       "    <tr>\n",
       "      <th>2</th>\n",
       "      <td>088c60f138</td>\n",
       "      <td>my boss is bullying me...</td>\n",
       "      <td>bullying me</td>\n",
       "      <td>negative</td>\n",
       "    </tr>\n",
       "    <tr>\n",
       "      <th>3</th>\n",
       "      <td>9642c003ef</td>\n",
       "      <td>what interview! leave me alone</td>\n",
       "      <td>leave me alone</td>\n",
       "      <td>negative</td>\n",
       "    </tr>\n",
       "    <tr>\n",
       "      <th>4</th>\n",
       "      <td>358bd9e861</td>\n",
       "      <td>Sons of ****, why couldn`t they put them on t...</td>\n",
       "      <td>Sons of ****,</td>\n",
       "      <td>negative</td>\n",
       "    </tr>\n",
       "  </tbody>\n",
       "</table>\n",
       "</div>"
      ],
      "text/plain": [
       "       textID                                               text  \\\n",
       "0  cb774db0d1                I`d have responded, if I were going   \n",
       "1  549e992a42      Sooo SAD I will miss you here in San Diego!!!   \n",
       "2  088c60f138                          my boss is bullying me...   \n",
       "3  9642c003ef                     what interview! leave me alone   \n",
       "4  358bd9e861   Sons of ****, why couldn`t they put them on t...   \n",
       "\n",
       "                         selected_text sentiment  \n",
       "0  I`d have responded, if I were going   neutral  \n",
       "1                             Sooo SAD  negative  \n",
       "2                          bullying me  negative  \n",
       "3                       leave me alone  negative  \n",
       "4                        Sons of ****,  negative  "
      ]
     },
     "execution_count": 3,
     "metadata": {},
     "output_type": "execute_result"
    }
   ],
   "source": [
    "train_data.head()"
   ]
  },
  {
   "cell_type": "code",
   "execution_count": 4,
   "id": "1f066627",
   "metadata": {},
   "outputs": [],
   "source": [
    "# Remove the null values from the dataset\n",
    "train_data.dropna(axis=0,how='any',inplace=True)\n",
    "test_data.dropna(axis=0,how='any',inplace=True)"
   ]
  },
  {
   "cell_type": "code",
   "execution_count": 5,
   "id": "9a0b350d",
   "metadata": {},
   "outputs": [
    {
     "name": "stdout",
     "output_type": "stream",
     "text": [
      "0        True\n",
      "1        True\n",
      "2        True\n",
      "3        True\n",
      "4        True\n",
      "         ... \n",
      "27476    True\n",
      "27477    True\n",
      "27478    True\n",
      "27479    True\n",
      "27480    True\n",
      "Name: num_words, Length: 27480, dtype: bool\n"
     ]
    }
   ],
   "source": [
    "# Removing text with less than 2 characters as it give very less information\n",
    "train_data['num_words']=train_data['text'].apply(lambda x: len(str(x).split()))\n",
    "mask=train_data['num_words']>2\n",
    "train_data=train_data[mask]\n",
    "print(mask)\n",
    "test_data['num_words']=test_data['text'].apply(lambda x: len(str(x).split()))\n",
    "mask=test_data['num_words']>2\n",
    "test_data=test_data[mask]"
   ]
  },
  {
   "cell_type": "code",
   "execution_count": 6,
   "id": "1a7405d6",
   "metadata": {},
   "outputs": [],
   "source": [
    "# Remove Emoji's, flags, symbols, urls, digits, special characters, etc.\n",
    "def remove_emoji(text):\n",
    "    emoji_pattern = re.compile(\"[\"\n",
    "                               u\"\\U0001F600-\\U0001F64F\" #emoticons\n",
    "                               u\"\\U0001F300-\\U0001F5FF\" #symbols & pictographs\n",
    "                               u\"\\U0001F680-\\U0001F6FF\" #transport & map symbols\n",
    "                               u\"\\U0001F1E0-\\U0001F1FF\" #flags(iOS)\n",
    "                               u\"\\U00002702-\\U000027B0\"\n",
    "                               u\"\\U000024C2-\\U0001F251\"\n",
    "                               \"]+\", flags=re.UNICODE)\n",
    "    return emoji_pattern.sub(r'',str(text))\n",
    "\n",
    "def remove_url(text):\n",
    "    url_pattern = re.compile('http[s]?://(?:[a-zA-Z]|[0-9]|[$-_@.&+]|[!*\\(\\),]|(?:%[0-9a-fA-F][0-9a-fA-F]))+')\n",
    "    return url_pattern.sub(r'',text)\n",
    "\n",
    "def clean_text(text):\n",
    "    delete_dict = {sp_character: '' for sp_character in string.punctuation}\n",
    "    delete_dict[' ']=' '\n",
    "    table=str.maketrans(delete_dict)\n",
    "    text1=str(text).translate(table)\n",
    "    textArr=str(text1).split()\n",
    "    text2=' '.join([w for w in textArr if (not w.isdigit() and (not w.isdigit() and len(w)>3))])\n",
    "    return text2.lower()"
   ]
  },
  {
   "cell_type": "code",
   "execution_count": 7,
   "id": "3b9a3477",
   "metadata": {},
   "outputs": [],
   "source": [
    "train_data['text']=train_data['text'].apply(remove_emoji)\n",
    "train_data['text']=train_data['text'].apply(remove_url)\n",
    "train_data['text']=train_data['text'].apply(clean_text)\n",
    "\n",
    "test_data['text']=test_data['text'].apply(remove_emoji)\n",
    "test_data['text']=test_data['text'].apply(remove_url)\n",
    "test_data['text']=test_data['text'].apply(clean_text)"
   ]
  },
  {
   "cell_type": "code",
   "execution_count": 8,
   "id": "dc3ac28e",
   "metadata": {},
   "outputs": [],
   "source": [
    "train_x,valid_x,train_y,valid_y=train_test_split(train_data['text'].tolist(),train_data['sentiment'].tolist(),random_state=0,test_size=0.33,stratify=train_data['sentiment'].tolist())"
   ]
  },
  {
   "cell_type": "code",
   "execution_count": 9,
   "id": "6141727c",
   "metadata": {},
   "outputs": [],
   "source": [
    "le=LabelEncoder()\n",
    "train_y=le.fit_transform(train_y)"
   ]
  },
  {
   "cell_type": "code",
   "execution_count": 10,
   "id": "c6d3b358",
   "metadata": {},
   "outputs": [
    {
     "data": {
      "text/plain": [
       "array([1, 1, 1, ..., 2, 2, 2], dtype=int64)"
      ]
     },
     "execution_count": 10,
     "metadata": {},
     "output_type": "execute_result"
    }
   ],
   "source": [
    "train_y"
   ]
  },
  {
   "cell_type": "code",
   "execution_count": 11,
   "id": "41da1624",
   "metadata": {},
   "outputs": [
    {
     "data": {
      "text/plain": [
       "array([[0., 1., 0.],\n",
       "       [0., 1., 0.],\n",
       "       [0., 1., 0.],\n",
       "       ...,\n",
       "       [0., 0., 1.],\n",
       "       [0., 0., 1.],\n",
       "       [0., 0., 1.]], dtype=float32)"
      ]
     },
     "execution_count": 11,
     "metadata": {},
     "output_type": "execute_result"
    }
   ],
   "source": [
    "train_y=keras.utils.to_categorical(train_y)\n",
    "train_y"
   ]
  },
  {
   "cell_type": "code",
   "execution_count": 12,
   "id": "0bd7586b",
   "metadata": {},
   "outputs": [],
   "source": [
    "valid_y=le.fit_transform(valid_y)\n",
    "valid_y=keras.utils.to_categorical(valid_y)\n",
    "\n",
    "test_y=le.transform(test_data['sentiment'].tolist())\n",
    "test_y=keras.utils.to_categorical(test_y)"
   ]
  },
  {
   "cell_type": "code",
   "execution_count": 13,
   "id": "62a9c09d",
   "metadata": {},
   "outputs": [],
   "source": [
    "train_x=np.array(train_x)\n",
    "valid_x=np.array(valid_x)\n",
    "test_x=np.array(test_data['text'].tolist())"
   ]
  },
  {
   "cell_type": "code",
   "execution_count": 14,
   "id": "3e8d7163",
   "metadata": {},
   "outputs": [],
   "source": [
    "# making tensors \n",
    "train_ds=tf.data.Dataset.from_tensor_slices((train_x,train_y))\n",
    "valid_ds=tf.data.Dataset.from_tensor_slices((valid_x,valid_y))\n",
    "test_ds=tf.data.Dataset.from_tensor_slices((test_x,test_y))"
   ]
  },
  {
   "cell_type": "code",
   "execution_count": 15,
   "id": "af4e4661",
   "metadata": {},
   "outputs": [],
   "source": [
    "# tensorflow hub - we can use pretrained models from the hub\n",
    "# we are using an embedding by google which is of 20 dimensions\n",
    "embedding ='https://tfhub.dev/google/tf2-preview/gnews-swivel-20dim-with-oov/1'\n",
    "hub_layer=hub.KerasLayer(embedding,trainable=True,input_shape=[],dtype=tf.string)"
   ]
  },
  {
   "cell_type": "code",
   "execution_count": 16,
   "id": "d5105903",
   "metadata": {},
   "outputs": [
    {
     "name": "stdout",
     "output_type": "stream",
     "text": [
      "['just getting additional free']\n"
     ]
    }
   ],
   "source": [
    "print(train_x[:1])"
   ]
  },
  {
   "cell_type": "code",
   "execution_count": 17,
   "id": "87eb72cc",
   "metadata": {},
   "outputs": [
    {
     "data": {
      "text/plain": [
       "<tf.Tensor: shape=(1, 20), dtype=float32, numpy=\n",
       "array([[ 0.02252544, -1.102936  , -0.45312536,  1.1712923 , -0.9280152 ,\n",
       "        -1.6799717 , -0.03097978, -0.04522766, -0.69689393, -0.3546787 ,\n",
       "        -0.9819268 ,  1.3606595 , -0.7599448 ,  0.05979407, -0.71509284,\n",
       "         0.48663723,  1.3430784 , -1.0147772 ,  0.13958323, -0.14541228]],\n",
       "      dtype=float32)>"
      ]
     },
     "execution_count": 17,
     "metadata": {},
     "output_type": "execute_result"
    }
   ],
   "source": [
    "hub_layer(train_x[:1])"
   ]
  },
  {
   "cell_type": "code",
   "execution_count": 18,
   "id": "f7625a95",
   "metadata": {},
   "outputs": [],
   "source": [
    "model=keras.Sequential()\n",
    "model.add(hub_layer)\n",
    "model.add(keras.layers.Dense(10,activation='relu'))\n",
    "model.add(keras.layers.Dense(3,activation='sigmoid'))"
   ]
  },
  {
   "cell_type": "code",
   "execution_count": 19,
   "id": "07097794",
   "metadata": {},
   "outputs": [
    {
     "name": "stdout",
     "output_type": "stream",
     "text": [
      "Model: \"sequential\"\n",
      "_________________________________________________________________\n",
      " Layer (type)                Output Shape              Param #   \n",
      "=================================================================\n",
      " keras_layer (KerasLayer)    (None, 20)                389380    \n",
      "                                                                 \n",
      " dense (Dense)               (None, 10)                210       \n",
      "                                                                 \n",
      " dense_1 (Dense)             (None, 3)                 33        \n",
      "                                                                 \n",
      "=================================================================\n",
      "Total params: 389,623\n",
      "Trainable params: 389,623\n",
      "Non-trainable params: 0\n",
      "_________________________________________________________________\n"
     ]
    }
   ],
   "source": [
    "model.summary()"
   ]
  },
  {
   "cell_type": "code",
   "execution_count": 20,
   "id": "f40986ff",
   "metadata": {},
   "outputs": [],
   "source": [
    "model.compile(loss=keras.losses.CategoricalCrossentropy(from_logits=True),\n",
    "             metrics=['CategoricalAccuracy'],\n",
    "             optimizer='adam')"
   ]
  },
  {
   "cell_type": "code",
   "execution_count": 21,
   "id": "c158c56b",
   "metadata": {},
   "outputs": [
    {
     "name": "stdout",
     "output_type": "stream",
     "text": [
      "Epoch 1/20\n"
     ]
    },
    {
     "name": "stderr",
     "output_type": "stream",
     "text": [
      "c:\\users\\acer\\appdata\\local\\programs\\python\\python39\\lib\\site-packages\\tensorflow\\python\\util\\dispatch.py:1082: UserWarning: \"`categorical_crossentropy` received `from_logits=True`, but the `output` argument was produced by a sigmoid or softmax activation and thus does not represent logits. Was this intended?\"\n",
      "  return dispatch_target(*args, **kwargs)\n"
     ]
    },
    {
     "name": "stdout",
     "output_type": "stream",
     "text": [
      "141/141 [==============================] - 2s 11ms/step - loss: 1.0960 - categorical_accuracy: 0.4101 - val_loss: 1.0256 - val_categorical_accuracy: 0.4858\n",
      "Epoch 2/20\n",
      "141/141 [==============================] - 1s 9ms/step - loss: 0.9878 - categorical_accuracy: 0.5213 - val_loss: 0.9657 - val_categorical_accuracy: 0.5406\n",
      "Epoch 3/20\n",
      "141/141 [==============================] - 1s 10ms/step - loss: 0.9235 - categorical_accuracy: 0.5700 - val_loss: 0.9205 - val_categorical_accuracy: 0.5679\n",
      "Epoch 4/20\n",
      "141/141 [==============================] - 1s 10ms/step - loss: 0.8667 - categorical_accuracy: 0.6063 - val_loss: 0.8844 - val_categorical_accuracy: 0.5895\n",
      "Epoch 5/20\n",
      "141/141 [==============================] - 2s 12ms/step - loss: 0.8163 - categorical_accuracy: 0.6369 - val_loss: 0.8567 - val_categorical_accuracy: 0.6088\n",
      "Epoch 6/20\n",
      "141/141 [==============================] - 2s 12ms/step - loss: 0.7734 - categorical_accuracy: 0.6640 - val_loss: 0.8378 - val_categorical_accuracy: 0.6216\n",
      "Epoch 7/20\n",
      "141/141 [==============================] - 2s 12ms/step - loss: 0.7376 - categorical_accuracy: 0.6857 - val_loss: 0.8264 - val_categorical_accuracy: 0.6312\n",
      "Epoch 8/20\n",
      "141/141 [==============================] - 2s 12ms/step - loss: 0.7077 - categorical_accuracy: 0.7019 - val_loss: 0.8206 - val_categorical_accuracy: 0.6354\n",
      "Epoch 9/20\n",
      "141/141 [==============================] - 2s 12ms/step - loss: 0.6823 - categorical_accuracy: 0.7181 - val_loss: 0.8187 - val_categorical_accuracy: 0.6402\n",
      "Epoch 10/20\n",
      "141/141 [==============================] - 2s 12ms/step - loss: 0.6599 - categorical_accuracy: 0.7293 - val_loss: 0.8197 - val_categorical_accuracy: 0.6416\n",
      "Epoch 11/20\n",
      "141/141 [==============================] - 2s 12ms/step - loss: 0.6397 - categorical_accuracy: 0.7416 - val_loss: 0.8228 - val_categorical_accuracy: 0.6424\n",
      "Epoch 12/20\n",
      "141/141 [==============================] - 2s 12ms/step - loss: 0.6212 - categorical_accuracy: 0.7496 - val_loss: 0.8279 - val_categorical_accuracy: 0.6430\n",
      "Epoch 13/20\n",
      "141/141 [==============================] - 2s 12ms/step - loss: 0.6039 - categorical_accuracy: 0.7575 - val_loss: 0.8345 - val_categorical_accuracy: 0.6438\n",
      "Epoch 14/20\n",
      "141/141 [==============================] - 2s 11ms/step - loss: 0.5876 - categorical_accuracy: 0.7671 - val_loss: 0.8424 - val_categorical_accuracy: 0.6447\n",
      "Epoch 15/20\n",
      "141/141 [==============================] - 2s 11ms/step - loss: 0.5721 - categorical_accuracy: 0.7744 - val_loss: 0.8512 - val_categorical_accuracy: 0.6454\n",
      "Epoch 16/20\n",
      "141/141 [==============================] - 1s 10ms/step - loss: 0.5574 - categorical_accuracy: 0.7812 - val_loss: 0.8609 - val_categorical_accuracy: 0.6446\n",
      "Epoch 17/20\n",
      "141/141 [==============================] - 1s 9ms/step - loss: 0.5433 - categorical_accuracy: 0.7874 - val_loss: 0.8717 - val_categorical_accuracy: 0.6432\n",
      "Epoch 18/20\n",
      "141/141 [==============================] - 2s 11ms/step - loss: 0.5300 - categorical_accuracy: 0.7928 - val_loss: 0.8833 - val_categorical_accuracy: 0.6410\n",
      "Epoch 19/20\n",
      "141/141 [==============================] - 1s 9ms/step - loss: 0.5173 - categorical_accuracy: 0.7999 - val_loss: 0.8956 - val_categorical_accuracy: 0.6407\n",
      "Epoch 20/20\n",
      "141/141 [==============================] - 1s 9ms/step - loss: 0.5052 - categorical_accuracy: 0.8058 - val_loss: 0.9090 - val_categorical_accuracy: 0.6373\n"
     ]
    }
   ],
   "source": [
    "history=model.fit(train_ds.batch(128),\n",
    "         epochs=20,\n",
    "         validation_data=valid_ds.batch(128))"
   ]
  },
  {
   "cell_type": "code",
   "execution_count": 22,
   "id": "84ebf529",
   "metadata": {},
   "outputs": [
    {
     "data": {
      "image/png": "[encoded data removed]",
      "text/plain": [
       "<Figure size 432x288 with 1 Axes>"
      ]
     },
     "metadata": {
      "needs_background": "light"
     },
     "output_type": "display_data"
    }
   ],
   "source": [
    "plt.plot(history.history['loss'],label='Training Data')\n",
    "plt.plot(history.history['val_loss'],label='Validation Data')\n",
    "plt.xlabel('Epochs')\n",
    "plt.ylabel('Loss')\n",
    "plt.legend(loc='upper left')\n",
    "plt.show()"
   ]
  },
  {
   "cell_type": "code",
   "execution_count": 32,
   "id": "e29f5d5e",
   "metadata": {},
   "outputs": [
    {
     "data": {
      "image/png": "[encoded data removed]",
      "text/plain": [
       "<Figure size 432x288 with 1 Axes>"
      ]
     },
     "metadata": {
      "needs_background": "light"
     },
     "output_type": "display_data"
    }
   ],
   "source": [
    "plt.plot(history.history['categorical_accuracy'],label='Training Data')\n",
    "plt.plot(history.history['val_categorical_accuracy'],label='Validation Data')\n",
    "plt.xlabel('Epochs')\n",
    "plt.ylabel('Accuracy')\n",
    "plt.legend(loc='upper left')\n",
    "plt.show()"
   ]
  },
  {
   "cell_type": "code",
   "execution_count": 24,
   "id": "f8e6e6a9",
   "metadata": {},
   "outputs": [],
   "source": [
    "model1=keras.Sequential()\n",
    "model1.add(hub_layer)\n",
    "model1.add(keras.layers.Dropout(0.5))\n",
    "model1.add(keras.layers.Dense(10,activation='relu',kernel_regularizer=keras.regularizers.l2(0.05)))\n",
    "model1.add(keras.layers.Dropout(0.5))\n",
    "model1.add(keras.layers.Dense(3,activation='sigmoid',kernel_regularizer=keras.regularizers.l2(0.05)))"
   ]
  },
  {
   "cell_type": "code",
   "execution_count": 25,
   "id": "a64105ed",
   "metadata": {},
   "outputs": [
    {
     "name": "stdout",
     "output_type": "stream",
     "text": [
      "Model: \"sequential_1\"\n",
      "_________________________________________________________________\n",
      " Layer (type)                Output Shape              Param #   \n",
      "=================================================================\n",
      " keras_layer (KerasLayer)    (None, 20)                389380    \n",
      "                                                                 \n",
      " dropout (Dropout)           (None, 20)                0         \n",
      "                                                                 \n",
      " dense_2 (Dense)             (None, 10)                210       \n",
      "                                                                 \n",
      " dropout_1 (Dropout)         (None, 10)                0         \n",
      "                                                                 \n",
      " dense_3 (Dense)             (None, 3)                 33        \n",
      "                                                                 \n",
      "=================================================================\n",
      "Total params: 389,623\n",
      "Trainable params: 389,623\n",
      "Non-trainable params: 0\n",
      "_________________________________________________________________\n"
     ]
    }
   ],
   "source": [
    "model1.summary()"
   ]
  },
  {
   "cell_type": "code",
   "execution_count": 26,
   "id": "60b8b242",
   "metadata": {},
   "outputs": [],
   "source": [
    "model1.compile(loss=keras.losses.CategoricalCrossentropy(from_logits=True),\n",
    "             metrics=['CategoricalAccuracy'],\n",
    "             optimizer='adam')"
   ]
  },
  {
   "cell_type": "code",
   "execution_count": 27,
   "id": "0fb65ad1",
   "metadata": {},
   "outputs": [
    {
     "name": "stdout",
     "output_type": "stream",
     "text": [
      "Epoch 1/60\n",
      "141/141 [==============================] - 2s 10ms/step - loss: 2.0087 - categorical_accuracy: 0.3640 - val_loss: 1.5237 - val_categorical_accuracy: 0.4205\n",
      "Epoch 2/60\n",
      "141/141 [==============================] - 1s 9ms/step - loss: 1.4649 - categorical_accuracy: 0.4008 - val_loss: 1.3114 - val_categorical_accuracy: 0.4144\n",
      "Epoch 3/60\n",
      "141/141 [==============================] - 1s 10ms/step - loss: 1.2644 - categorical_accuracy: 0.4342 - val_loss: 1.1910 - val_categorical_accuracy: 0.4531\n",
      "Epoch 4/60\n",
      "141/141 [==============================] - 1s 9ms/step - loss: 1.1580 - categorical_accuracy: 0.4779 - val_loss: 1.1092 - val_categorical_accuracy: 0.5446\n",
      "Epoch 5/60\n",
      "141/141 [==============================] - 1s 10ms/step - loss: 1.0971 - categorical_accuracy: 0.4946 - val_loss: 1.0624 - val_categorical_accuracy: 0.5754\n",
      "Epoch 6/60\n",
      "141/141 [==============================] - 1s 9ms/step - loss: 1.0640 - categorical_accuracy: 0.5130 - val_loss: 1.0348 - val_categorical_accuracy: 0.5848\n",
      "Epoch 7/60\n",
      "141/141 [==============================] - 1s 10ms/step - loss: 1.0403 - categorical_accuracy: 0.5260 - val_loss: 1.0157 - val_categorical_accuracy: 0.5987\n",
      "Epoch 8/60\n",
      "141/141 [==============================] - 1s 10ms/step - loss: 1.0296 - categorical_accuracy: 0.5396 - val_loss: 1.0011 - val_categorical_accuracy: 0.6037\n",
      "Epoch 9/60\n",
      "141/141 [==============================] - 2s 11ms/step - loss: 1.0139 - categorical_accuracy: 0.5531 - val_loss: 0.9884 - val_categorical_accuracy: 0.6065\n",
      "Epoch 10/60\n",
      "141/141 [==============================] - 2s 11ms/step - loss: 0.9978 - categorical_accuracy: 0.5681 - val_loss: 0.9774 - val_categorical_accuracy: 0.6045\n",
      "Epoch 11/60\n",
      "141/141 [==============================] - 1s 9ms/step - loss: 0.9912 - categorical_accuracy: 0.5647 - val_loss: 0.9696 - val_categorical_accuracy: 0.6098\n",
      "Epoch 12/60\n",
      "141/141 [==============================] - 1s 10ms/step - loss: 0.9801 - categorical_accuracy: 0.5766 - val_loss: 0.9610 - val_categorical_accuracy: 0.6177\n",
      "Epoch 13/60\n",
      "141/141 [==============================] - 1s 10ms/step - loss: 0.9748 - categorical_accuracy: 0.5800 - val_loss: 0.9551 - val_categorical_accuracy: 0.6258\n",
      "Epoch 14/60\n",
      "141/141 [==============================] - 1s 10ms/step - loss: 0.9691 - categorical_accuracy: 0.5803 - val_loss: 0.9515 - val_categorical_accuracy: 0.6236\n",
      "Epoch 15/60\n",
      "141/141 [==============================] - 2s 12ms/step - loss: 0.9631 - categorical_accuracy: 0.5820 - val_loss: 0.9454 - val_categorical_accuracy: 0.6313\n",
      "Epoch 16/60\n",
      "141/141 [==============================] - 1s 10ms/step - loss: 0.9514 - categorical_accuracy: 0.5930 - val_loss: 0.9389 - val_categorical_accuracy: 0.6419\n",
      "Epoch 17/60\n",
      "141/141 [==============================] - 1s 9ms/step - loss: 0.9517 - categorical_accuracy: 0.5944 - val_loss: 0.9362 - val_categorical_accuracy: 0.6405\n",
      "Epoch 18/60\n",
      "141/141 [==============================] - 1s 9ms/step - loss: 0.9474 - categorical_accuracy: 0.5992 - val_loss: 0.9331 - val_categorical_accuracy: 0.6393\n",
      "Epoch 19/60\n",
      "141/141 [==============================] - 1s 10ms/step - loss: 0.9413 - categorical_accuracy: 0.6035 - val_loss: 0.9291 - val_categorical_accuracy: 0.6467\n",
      "Epoch 20/60\n",
      "141/141 [==============================] - 1s 9ms/step - loss: 0.9382 - categorical_accuracy: 0.6045 - val_loss: 0.9273 - val_categorical_accuracy: 0.6425\n",
      "Epoch 21/60\n",
      "141/141 [==============================] - 1s 10ms/step - loss: 0.9310 - categorical_accuracy: 0.6081 - val_loss: 0.9237 - val_categorical_accuracy: 0.6474\n",
      "Epoch 22/60\n",
      "141/141 [==============================] - 1s 10ms/step - loss: 0.9274 - categorical_accuracy: 0.6090 - val_loss: 0.9218 - val_categorical_accuracy: 0.6453\n",
      "Epoch 23/60\n",
      "141/141 [==============================] - 2s 11ms/step - loss: 0.9269 - categorical_accuracy: 0.6133 - val_loss: 0.9193 - val_categorical_accuracy: 0.6451\n",
      "Epoch 24/60\n",
      "141/141 [==============================] - 2s 11ms/step - loss: 0.9169 - categorical_accuracy: 0.6202 - val_loss: 0.9146 - val_categorical_accuracy: 0.6509\n",
      "Epoch 25/60\n",
      "141/141 [==============================] - 2s 12ms/step - loss: 0.9173 - categorical_accuracy: 0.6195 - val_loss: 0.9139 - val_categorical_accuracy: 0.6501\n",
      "Epoch 26/60\n",
      "141/141 [==============================] - 2s 12ms/step - loss: 0.9138 - categorical_accuracy: 0.6246 - val_loss: 0.9112 - val_categorical_accuracy: 0.6528\n",
      "Epoch 27/60\n",
      "141/141 [==============================] - 2s 11ms/step - loss: 0.9116 - categorical_accuracy: 0.6248 - val_loss: 0.9093 - val_categorical_accuracy: 0.6533\n",
      "Epoch 28/60\n",
      "141/141 [==============================] - 1s 10ms/step - loss: 0.9055 - categorical_accuracy: 0.6265 - val_loss: 0.9094 - val_categorical_accuracy: 0.6515\n",
      "Epoch 29/60\n",
      "141/141 [==============================] - 1s 10ms/step - loss: 0.9093 - categorical_accuracy: 0.6261 - val_loss: 0.9066 - val_categorical_accuracy: 0.6542\n",
      "Epoch 30/60\n",
      "141/141 [==============================] - 1s 9ms/step - loss: 0.9058 - categorical_accuracy: 0.6288 - val_loss: 0.9044 - val_categorical_accuracy: 0.6542\n",
      "Epoch 31/60\n",
      "141/141 [==============================] - 1s 10ms/step - loss: 0.9038 - categorical_accuracy: 0.6328 - val_loss: 0.9034 - val_categorical_accuracy: 0.6534\n",
      "Epoch 32/60\n",
      "141/141 [==============================] - 2s 11ms/step - loss: 0.8986 - categorical_accuracy: 0.6351 - val_loss: 0.9008 - val_categorical_accuracy: 0.6551\n",
      "Epoch 33/60\n",
      "141/141 [==============================] - 1s 10ms/step - loss: 0.8978 - categorical_accuracy: 0.6338 - val_loss: 0.9006 - val_categorical_accuracy: 0.6555\n",
      "Epoch 34/60\n",
      "141/141 [==============================] - 1s 10ms/step - loss: 0.8946 - categorical_accuracy: 0.6353 - val_loss: 0.8990 - val_categorical_accuracy: 0.6559\n",
      "Epoch 35/60\n",
      "141/141 [==============================] - 1s 10ms/step - loss: 0.8911 - categorical_accuracy: 0.6360 - val_loss: 0.8968 - val_categorical_accuracy: 0.6568\n",
      "Epoch 36/60\n",
      "141/141 [==============================] - 2s 11ms/step - loss: 0.8863 - categorical_accuracy: 0.6412 - val_loss: 0.8961 - val_categorical_accuracy: 0.6556\n",
      "Epoch 37/60\n",
      "141/141 [==============================] - 1s 11ms/step - loss: 0.8896 - categorical_accuracy: 0.6389 - val_loss: 0.8955 - val_categorical_accuracy: 0.6550\n",
      "Epoch 38/60\n",
      "141/141 [==============================] - 1s 10ms/step - loss: 0.8858 - categorical_accuracy: 0.6411 - val_loss: 0.8942 - val_categorical_accuracy: 0.6565\n",
      "Epoch 39/60\n",
      "141/141 [==============================] - 1s 11ms/step - loss: 0.8851 - categorical_accuracy: 0.6436 - val_loss: 0.8925 - val_categorical_accuracy: 0.6574\n",
      "Epoch 40/60\n",
      "141/141 [==============================] - 1s 10ms/step - loss: 0.8814 - categorical_accuracy: 0.6479 - val_loss: 0.8920 - val_categorical_accuracy: 0.6568\n",
      "Epoch 41/60\n",
      "141/141 [==============================] - 1s 10ms/step - loss: 0.8833 - categorical_accuracy: 0.6444 - val_loss: 0.8916 - val_categorical_accuracy: 0.6547\n",
      "Epoch 42/60\n",
      "141/141 [==============================] - 1s 10ms/step - loss: 0.8798 - categorical_accuracy: 0.6446 - val_loss: 0.8891 - val_categorical_accuracy: 0.6560\n",
      "Epoch 43/60\n",
      "141/141 [==============================] - 1s 10ms/step - loss: 0.8749 - categorical_accuracy: 0.6489 - val_loss: 0.8885 - val_categorical_accuracy: 0.6562\n",
      "Epoch 44/60\n",
      "141/141 [==============================] - 1s 10ms/step - loss: 0.8725 - categorical_accuracy: 0.6504 - val_loss: 0.8872 - val_categorical_accuracy: 0.6561\n",
      "Epoch 45/60\n",
      "141/141 [==============================] - 1s 10ms/step - loss: 0.8723 - categorical_accuracy: 0.6507 - val_loss: 0.8867 - val_categorical_accuracy: 0.6562\n",
      "Epoch 46/60\n",
      "141/141 [==============================] - 1s 9ms/step - loss: 0.8657 - categorical_accuracy: 0.6614 - val_loss: 0.8864 - val_categorical_accuracy: 0.6567\n",
      "Epoch 47/60\n",
      "141/141 [==============================] - 2s 11ms/step - loss: 0.8626 - categorical_accuracy: 0.6634 - val_loss: 0.8848 - val_categorical_accuracy: 0.6592\n",
      "Epoch 48/60\n",
      "141/141 [==============================] - 1s 10ms/step - loss: 0.8669 - categorical_accuracy: 0.6599 - val_loss: 0.8838 - val_categorical_accuracy: 0.6589\n",
      "Epoch 49/60\n",
      "141/141 [==============================] - 1s 10ms/step - loss: 0.8643 - categorical_accuracy: 0.6601 - val_loss: 0.8845 - val_categorical_accuracy: 0.6560\n"
     ]
    },
    {
     "name": "stdout",
     "output_type": "stream",
     "text": [
      "Epoch 50/60\n",
      "141/141 [==============================] - 1s 9ms/step - loss: 0.8628 - categorical_accuracy: 0.6640 - val_loss: 0.8819 - val_categorical_accuracy: 0.6577\n",
      "Epoch 51/60\n",
      "141/141 [==============================] - 1s 10ms/step - loss: 0.8603 - categorical_accuracy: 0.6565 - val_loss: 0.8829 - val_categorical_accuracy: 0.6568\n",
      "Epoch 52/60\n",
      "141/141 [==============================] - 2s 12ms/step - loss: 0.8631 - categorical_accuracy: 0.6571 - val_loss: 0.8815 - val_categorical_accuracy: 0.6595\n",
      "Epoch 53/60\n",
      "141/141 [==============================] - 1s 10ms/step - loss: 0.8592 - categorical_accuracy: 0.6624 - val_loss: 0.8809 - val_categorical_accuracy: 0.6594\n",
      "Epoch 54/60\n",
      "141/141 [==============================] - 2s 11ms/step - loss: 0.8569 - categorical_accuracy: 0.6618 - val_loss: 0.8813 - val_categorical_accuracy: 0.6587\n",
      "Epoch 55/60\n",
      "141/141 [==============================] - 2s 11ms/step - loss: 0.8560 - categorical_accuracy: 0.6660 - val_loss: 0.8789 - val_categorical_accuracy: 0.6629\n",
      "Epoch 56/60\n",
      "141/141 [==============================] - 2s 11ms/step - loss: 0.8558 - categorical_accuracy: 0.6691 - val_loss: 0.8788 - val_categorical_accuracy: 0.6616\n",
      "Epoch 57/60\n",
      "141/141 [==============================] - 2s 11ms/step - loss: 0.8600 - categorical_accuracy: 0.6618 - val_loss: 0.8784 - val_categorical_accuracy: 0.6610\n",
      "Epoch 58/60\n",
      "141/141 [==============================] - 1s 10ms/step - loss: 0.8498 - categorical_accuracy: 0.6711 - val_loss: 0.8779 - val_categorical_accuracy: 0.6611\n",
      "Epoch 59/60\n",
      "141/141 [==============================] - 2s 11ms/step - loss: 0.8473 - categorical_accuracy: 0.6699 - val_loss: 0.8763 - val_categorical_accuracy: 0.6612\n",
      "Epoch 60/60\n",
      "141/141 [==============================] - 1s 11ms/step - loss: 0.8531 - categorical_accuracy: 0.6677 - val_loss: 0.8767 - val_categorical_accuracy: 0.6611\n"
     ]
    }
   ],
   "source": [
    "history1=model1.fit(train_ds.shuffle(1000).batch(128),\n",
    "         epochs=60,\n",
    "         validation_data=valid_ds.batch(128)) "
   ]
  },
  {
   "cell_type": "code",
   "execution_count": 29,
   "id": "df82325a",
   "metadata": {},
   "outputs": [
    {
     "data": {
      "image/png": "[encoded data removed]",
      "text/plain": [
       "<Figure size 432x288 with 1 Axes>"
      ]
     },
     "metadata": {
      "needs_background": "light"
     },
     "output_type": "display_data"
    }
   ],
   "source": [
    "plt.plot(history1.history['loss'],label='Training Data')\n",
    "plt.plot(history1.history['val_loss'],label='Validation Data')\n",
    "plt.xlabel('Epochs')\n",
    "plt.ylabel('Loss')\n",
    "plt.legend(loc='upper left')\n",
    "plt.show()"
   ]
  },
  {
   "cell_type": "code",
   "execution_count": 31,
   "id": "a1a4714c",
   "metadata": {},
   "outputs": [
    {
     "data": {
      "image/png": "[encoded data removed]",
      "text/plain": [
       "<Figure size 432x288 with 1 Axes>"
      ]
     },
     "metadata": {
      "needs_background": "light"
     },
     "output_type": "display_data"
    }
   ],
   "source": [
    "plt.plot(history1.history['categorical_accuracy'],label='Training Data')\n",
    "plt.plot(history1.history['val_categorical_accuracy'],label='Validation Data')\n",
    "plt.xlabel('Epochs')\n",
    "plt.ylabel('Accuracy')\n",
    "plt.legend(loc='upper left')\n",
    "plt.show()"
   ]
  },
  {
   "cell_type": "code",
   "execution_count": 33,
   "id": "c210415a",
   "metadata": {},
   "outputs": [
    {
     "name": "stdout",
     "output_type": "stream",
     "text": [
      "108/108 [==============================] - 0s 3ms/step - loss: 0.8658 - categorical_accuracy: 0.6680\n"
     ]
    },
    {
     "data": {
      "text/plain": [
       "[0.8657997846603394, 0.6680256128311157]"
      ]
     },
     "execution_count": 33,
     "metadata": {},
     "output_type": "execute_result"
    }
   ],
   "source": [
    "model1.evaluate(test_x,test_y)"
   ]
  }
 ],
 "metadata": {
  "kernelspec": {
   "display_name": "Python 3 (ipykernel)",
   "language": "python",
   "name": "python3"
  },
  "language_info": {
   "codemirror_mode": {
    "name": "ipython",
    "version": 3
   },
   "file_extension": ".py",
   "mimetype": "text/x-python",
   "name": "python",
   "nbconvert_exporter": "python",
   "pygments_lexer": "ipython3",
   "version": "3.9.6"
  }
 },
 "nbformat": 4,
 "nbformat_minor": 5
}
